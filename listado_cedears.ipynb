{
 "cells": [
  {
   "cell_type": "code",
   "execution_count": 2,
   "metadata": {},
   "outputs": [],
   "source": [
    "import pandas as pd\n",
    "import yfinance as yf\n",
    "import yfinance.shared as shared"
   ]
  },
  {
   "cell_type": "code",
   "execution_count": 3,
   "metadata": {},
   "outputs": [],
   "source": [
    "tabla = pd.read_html('https://www.comafi.com.ar/2254-CEDEAR-SHARES.note.aspx')"
   ]
  },
  {
   "cell_type": "code",
   "execution_count": 4,
   "metadata": {},
   "outputs": [],
   "source": [
    "cedears = tabla[0][['Símbolo BYMA']]"
   ]
  },
  {
   "cell_type": "code",
   "execution_count": 5,
   "metadata": {},
   "outputs": [],
   "source": [
    "lista_cedears = cedears.iloc[0:,0].to_list()"
   ]
  },
  {
   "cell_type": "code",
   "execution_count": 6,
   "metadata": {},
   "outputs": [
    {
     "name": "stdout",
     "output_type": "stream",
     "text": [
      "[*********************100%***********************]  256 of 256 completed\n",
      "\n",
      "32 Failed downloads:\n",
      "- BAYN.BA: No data found, symbol may be delisted\n",
      "- BAS.BA: No data found, symbol may be delisted\n",
      "- NSAN.BA: No data found, symbol may be delisted\n",
      "- FNMA.BA: No data found, symbol may be delisted\n",
      "- ROST.BA: No data found for this date range, symbol may be delisted\n",
      "- NG.BA: No data found for this date range, symbol may be delisted\n",
      "- LMT.BA: No data found for this date range, symbol may be delisted\n",
      "- EOAN.BA: No data found, symbol may be delisted\n",
      "- PSO.BA: No data found for this date range, symbol may be delisted\n",
      "- SMSN.BA: No data found, symbol may be delisted\n",
      "- NMR.BA: No data found for this date range, symbol may be delisted\n",
      "- YZCA.BA: No data found, symbol may be delisted\n",
      "- DTEA.BA: No data found, symbol may be delisted\n",
      "- ASR.BA: No data found for this date range, symbol may be delisted\n",
      "- EBAY.BA: No data found for this date range, symbol may be delisted\n",
      "- PG.BA: No data found for this date range, symbol may be delisted\n",
      "- HHPD.BA: No data found, symbol may be delisted\n",
      "- HMY.BA: No data found for this date range, symbol may be delisted\n",
      "- CHA.BA: No data found for this date range, symbol may be delisted\n",
      "- DCMYY.BA: No data found, symbol may be delisted\n",
      "- NUE.BA: No data found for this date range, symbol may be delisted\n",
      "- AABA.BA: No data found, symbol may be delisted\n",
      "- FMCC.BA: No data found, symbol may be delisted\n",
      "- PCRF.BA: No data found, symbol may be delisted\n",
      "- NGG.BA: No data found for this date range, symbol may be delisted\n",
      "- LKOD.BA: No data found for this date range, symbol may be delisted\n",
      "- TIIAY.BA: No data found, symbol may be delisted\n",
      "- BA.C.BA: No data found, symbol may be delisted\n",
      "- SAN.BA: None\n",
      "- NEC1.BA: No data found, symbol may be delisted\n",
      "- ATAD.BA: No data found, symbol may be delisted\n",
      "- NLM.BA: No data found, symbol may be delisted\n"
     ]
    }
   ],
   "source": [
    "volumen_promedio = yf.download(list(map(lambda x:x + '.BA', lista_cedears)), '2021-06-01')['Volume'].mean()"
   ]
  },
  {
   "cell_type": "code",
   "execution_count": 7,
   "metadata": {},
   "outputs": [],
   "source": [
    "faltantes = list(shared._ERRORS.keys())"
   ]
  },
  {
   "cell_type": "code",
   "execution_count": 8,
   "metadata": {},
   "outputs": [
    {
     "name": "stdout",
     "output_type": "stream",
     "text": [
      "[*********************100%***********************]  32 of 32 completed\n",
      "\n",
      "21 Failed downloads:\n",
      "- EOAN.BA: No data found, symbol may be delisted\n",
      "- BAYN.BA: No data found, symbol may be delisted\n",
      "- DCMYY.BA: No data found, symbol may be delisted\n",
      "- AABA.BA: No data found, symbol may be delisted\n",
      "- FMCC.BA: No data found, symbol may be delisted\n",
      "- PCRF.BA: No data found, symbol may be delisted\n",
      "- PSO.BA: No data found for this date range, symbol may be delisted\n",
      "- BAS.BA: No data found, symbol may be delisted\n",
      "- YZCA.BA: No data found, symbol may be delisted\n",
      "- BA.C.BA: No data found, symbol may be delisted\n",
      "- SMSN.BA: No data found, symbol may be delisted\n",
      "- DTEA.BA: No data found, symbol may be delisted\n",
      "- LKOD.BA: None\n",
      "- TIIAY.BA: No data found, symbol may be delisted\n",
      "- ATAD.BA: No data found, symbol may be delisted\n",
      "- SAN.BA: None\n",
      "- NSAN.BA: No data found, symbol may be delisted\n",
      "- NEC1.BA: No data found, symbol may be delisted\n",
      "- FNMA.BA: No data found, symbol may be delisted\n",
      "- HHPD.BA: No data found, symbol may be delisted\n",
      "- NLM.BA: No data found, symbol may be delisted\n"
     ]
    }
   ],
   "source": [
    "volumen_promedio2 = yf.download(faltantes, '2021-06-01')['Volume'].mean()"
   ]
  },
  {
   "cell_type": "code",
   "execution_count": 27,
   "metadata": {},
   "outputs": [],
   "source": [
    "volumen_promedio2.dropna(inplace=True)"
   ]
  },
  {
   "cell_type": "code",
   "execution_count": 28,
   "metadata": {},
   "outputs": [],
   "source": [
    "volumen_promedio2 = volumen_promedio2[volumen_promedio2 >= 5000]"
   ]
  },
  {
   "cell_type": "code",
   "execution_count": 9,
   "metadata": {},
   "outputs": [
    {
     "data": {
      "text/plain": [
       "AABA.BA              NaN\n",
       "ASR.BA          0.000000\n",
       "ATAD.BA              NaN\n",
       "BA.C.BA              NaN\n",
       "BAS.BA               NaN\n",
       "BAYN.BA              NaN\n",
       "CHA.BA          0.000000\n",
       "DCMYY.BA             NaN\n",
       "DTEA.BA              NaN\n",
       "EBAY.BA       477.482759\n",
       "EOAN.BA              NaN\n",
       "FMCC.BA              NaN\n",
       "FNMA.BA              NaN\n",
       "HHPD.BA              NaN\n",
       "HMY.BA      36327.055172\n",
       "LKOD.BA              NaN\n",
       "LMT.BA        849.137931\n",
       "NEC1.BA              NaN\n",
       "NG.BA           6.379310\n",
       "NGG.BA         67.020690\n",
       "NLM.BA               NaN\n",
       "NMR.BA          3.337931\n",
       "NSAN.BA              NaN\n",
       "NUE.BA          0.000000\n",
       "PCRF.BA              NaN\n",
       "PG.BA        2341.751724\n",
       "PSO.BA               NaN\n",
       "ROST.BA         7.196078\n",
       "SAN.BA               NaN\n",
       "SMSN.BA              NaN\n",
       "TIIAY.BA             NaN\n",
       "YZCA.BA              NaN\n",
       "dtype: float64"
      ]
     },
     "execution_count": 9,
     "metadata": {},
     "output_type": "execute_result"
    }
   ],
   "source": [
    "volumen_promedio2"
   ]
  },
  {
   "cell_type": "code",
   "execution_count": null,
   "metadata": {},
   "outputs": [],
   "source": []
  }
 ],
 "metadata": {
  "interpreter": {
   "hash": "0fad744df8831b57cd885722def250170a55ab230affc0085a87d8f366d2e3cc"
  },
  "kernelspec": {
   "display_name": "Python 3.9.7 64-bit (windows store)",
   "name": "python3"
  },
  "language_info": {
   "codemirror_mode": {
    "name": "ipython",
    "version": 3
   },
   "file_extension": ".py",
   "mimetype": "text/x-python",
   "name": "python",
   "nbconvert_exporter": "python",
   "pygments_lexer": "ipython3",
   "version": "3.9.9"
  },
  "orig_nbformat": 4
 },
 "nbformat": 4,
 "nbformat_minor": 2
}
