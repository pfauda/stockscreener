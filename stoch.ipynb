{
 "cells": [
  {
   "cell_type": "code",
   "execution_count": 1,
   "metadata": {},
   "outputs": [],
   "source": [
    "import datetime as dt\n",
    "import pandas as pd\n",
    "import pandas_ta as ta\n",
    "from pandas_datareader import data as pdr\n",
    "#from pandas.core.frame import DataFrame\n",
    "import yfinance as yf\n",
    "from numpy import sqrt as npsqrt"
   ]
  },
  {
   "cell_type": "code",
   "execution_count": 2,
   "metadata": {},
   "outputs": [],
   "source": [
    "start_date = dt.datetime(2019,1,1)\n",
    "end_date = dt.datetime.today() - dt.timedelta(days=1)"
   ]
  },
  {
   "cell_type": "code",
   "execution_count": 3,
   "metadata": {},
   "outputs": [
    {
     "data": {
      "text/plain": [
       "datetime.datetime(2022, 1, 1, 9, 25, 29, 728168)"
      ]
     },
     "execution_count": 3,
     "metadata": {},
     "output_type": "execute_result"
    }
   ],
   "source": [
    "end_date"
   ]
  },
  {
   "cell_type": "code",
   "execution_count": 5,
   "metadata": {},
   "outputs": [],
   "source": [
    "df = yf.download(\"HMY\", start_date, end_date, progress=False, auto_adjust=False, interval='1d')\n",
    "#df = pdr.DataReader('BBAR.BA', data_source='yahoo', start=start_date, end=end_date)"
   ]
  },
  {
   "cell_type": "code",
   "execution_count": 6,
   "metadata": {},
   "outputs": [
    {
     "data": {
      "text/html": [
       "<div>\n",
       "<style scoped>\n",
       "    .dataframe tbody tr th:only-of-type {\n",
       "        vertical-align: middle;\n",
       "    }\n",
       "\n",
       "    .dataframe tbody tr th {\n",
       "        vertical-align: top;\n",
       "    }\n",
       "\n",
       "    .dataframe thead th {\n",
       "        text-align: right;\n",
       "    }\n",
       "</style>\n",
       "<table border=\"1\" class=\"dataframe\">\n",
       "  <thead>\n",
       "    <tr style=\"text-align: right;\">\n",
       "      <th></th>\n",
       "      <th>Open</th>\n",
       "      <th>High</th>\n",
       "      <th>Low</th>\n",
       "      <th>Close</th>\n",
       "      <th>Adj Close</th>\n",
       "      <th>Volume</th>\n",
       "    </tr>\n",
       "    <tr>\n",
       "      <th>Date</th>\n",
       "      <th></th>\n",
       "      <th></th>\n",
       "      <th></th>\n",
       "      <th></th>\n",
       "      <th></th>\n",
       "      <th></th>\n",
       "    </tr>\n",
       "  </thead>\n",
       "  <tbody>\n",
       "    <tr>\n",
       "      <th>2019-01-02</th>\n",
       "      <td>1.83</td>\n",
       "      <td>1.84</td>\n",
       "      <td>1.76</td>\n",
       "      <td>1.81</td>\n",
       "      <td>1.770865</td>\n",
       "      <td>2909700</td>\n",
       "    </tr>\n",
       "    <tr>\n",
       "      <th>2019-01-03</th>\n",
       "      <td>1.90</td>\n",
       "      <td>1.93</td>\n",
       "      <td>1.87</td>\n",
       "      <td>1.93</td>\n",
       "      <td>1.888271</td>\n",
       "      <td>3923900</td>\n",
       "    </tr>\n",
       "    <tr>\n",
       "      <th>2019-01-04</th>\n",
       "      <td>1.90</td>\n",
       "      <td>1.91</td>\n",
       "      <td>1.84</td>\n",
       "      <td>1.87</td>\n",
       "      <td>1.829568</td>\n",
       "      <td>3151400</td>\n",
       "    </tr>\n",
       "    <tr>\n",
       "      <th>2019-01-07</th>\n",
       "      <td>1.94</td>\n",
       "      <td>1.94</td>\n",
       "      <td>1.85</td>\n",
       "      <td>1.87</td>\n",
       "      <td>1.829568</td>\n",
       "      <td>1897400</td>\n",
       "    </tr>\n",
       "    <tr>\n",
       "      <th>2019-01-08</th>\n",
       "      <td>1.86</td>\n",
       "      <td>1.91</td>\n",
       "      <td>1.83</td>\n",
       "      <td>1.88</td>\n",
       "      <td>1.839352</td>\n",
       "      <td>2579800</td>\n",
       "    </tr>\n",
       "    <tr>\n",
       "      <th>...</th>\n",
       "      <td>...</td>\n",
       "      <td>...</td>\n",
       "      <td>...</td>\n",
       "      <td>...</td>\n",
       "      <td>...</td>\n",
       "      <td>...</td>\n",
       "    </tr>\n",
       "    <tr>\n",
       "      <th>2021-12-27</th>\n",
       "      <td>3.91</td>\n",
       "      <td>4.00</td>\n",
       "      <td>3.88</td>\n",
       "      <td>3.99</td>\n",
       "      <td>3.990000</td>\n",
       "      <td>2456800</td>\n",
       "    </tr>\n",
       "    <tr>\n",
       "      <th>2021-12-28</th>\n",
       "      <td>4.00</td>\n",
       "      <td>4.05</td>\n",
       "      <td>3.92</td>\n",
       "      <td>3.92</td>\n",
       "      <td>3.920000</td>\n",
       "      <td>2913600</td>\n",
       "    </tr>\n",
       "    <tr>\n",
       "      <th>2021-12-29</th>\n",
       "      <td>3.90</td>\n",
       "      <td>3.99</td>\n",
       "      <td>3.89</td>\n",
       "      <td>3.94</td>\n",
       "      <td>3.940000</td>\n",
       "      <td>3491000</td>\n",
       "    </tr>\n",
       "    <tr>\n",
       "      <th>2021-12-30</th>\n",
       "      <td>4.00</td>\n",
       "      <td>4.08</td>\n",
       "      <td>3.97</td>\n",
       "      <td>4.08</td>\n",
       "      <td>4.080000</td>\n",
       "      <td>4307800</td>\n",
       "    </tr>\n",
       "    <tr>\n",
       "      <th>2021-12-31</th>\n",
       "      <td>4.09</td>\n",
       "      <td>4.12</td>\n",
       "      <td>4.04</td>\n",
       "      <td>4.11</td>\n",
       "      <td>4.110000</td>\n",
       "      <td>1955400</td>\n",
       "    </tr>\n",
       "  </tbody>\n",
       "</table>\n",
       "<p>757 rows × 6 columns</p>\n",
       "</div>"
      ],
      "text/plain": [
       "            Open  High   Low  Close  Adj Close   Volume\n",
       "Date                                                   \n",
       "2019-01-02  1.83  1.84  1.76   1.81   1.770865  2909700\n",
       "2019-01-03  1.90  1.93  1.87   1.93   1.888271  3923900\n",
       "2019-01-04  1.90  1.91  1.84   1.87   1.829568  3151400\n",
       "2019-01-07  1.94  1.94  1.85   1.87   1.829568  1897400\n",
       "2019-01-08  1.86  1.91  1.83   1.88   1.839352  2579800\n",
       "...          ...   ...   ...    ...        ...      ...\n",
       "2021-12-27  3.91  4.00  3.88   3.99   3.990000  2456800\n",
       "2021-12-28  4.00  4.05  3.92   3.92   3.920000  2913600\n",
       "2021-12-29  3.90  3.99  3.89   3.94   3.940000  3491000\n",
       "2021-12-30  4.00  4.08  3.97   4.08   4.080000  4307800\n",
       "2021-12-31  4.09  4.12  4.04   4.11   4.110000  1955400\n",
       "\n",
       "[757 rows x 6 columns]"
      ]
     },
     "execution_count": 6,
     "metadata": {},
     "output_type": "execute_result"
    }
   ],
   "source": [
    "df"
   ]
  },
  {
   "cell_type": "code",
   "execution_count": 30,
   "metadata": {},
   "outputs": [
    {
     "data": {
      "text/plain": [
       "Date\n",
       "2021-05-28    142.050003\n",
       "2021-05-31    142.050003\n",
       "2021-06-01    142.050003\n",
       "2021-06-02    142.050003\n",
       "2021-06-03    142.050003\n",
       "2021-06-04    142.050003\n",
       "2021-06-07    142.050003\n",
       "2021-06-08    142.050003\n",
       "2021-06-09    142.050003\n",
       "2021-06-10    142.050003\n",
       "2021-06-11    142.050003\n",
       "2021-06-14    142.050003\n",
       "2021-06-15    142.050003\n",
       "2021-06-16    142.050003\n",
       "2021-06-17    142.050003\n",
       "2021-06-18    142.050003\n",
       "2021-06-22    142.050003\n",
       "2021-06-23    142.050003\n",
       "2021-06-24    142.050003\n",
       "2021-06-25    142.050003\n",
       "Name: Close, dtype: float64"
      ]
     },
     "execution_count": 30,
     "metadata": {},
     "output_type": "execute_result"
    }
   ],
   "source": [
    "df.Close.rolling(20, min_periods=20).mean().tail(20)"
   ]
  },
  {
   "cell_type": "code",
   "execution_count": 31,
   "metadata": {},
   "outputs": [
    {
     "data": {
      "text/plain": [
       "Date\n",
       "2019-01-02           NaN\n",
       "2019-01-03           NaN\n",
       "2019-01-04           NaN\n",
       "2019-01-07           NaN\n",
       "2019-01-08           NaN\n",
       "                 ...    \n",
       "2021-06-18    142.050003\n",
       "2021-06-22    142.050003\n",
       "2021-06-23    142.050003\n",
       "2021-06-24    142.050003\n",
       "2021-06-25    142.050003\n",
       "Name: SMA_10, Length: 602, dtype: float64"
      ]
     },
     "execution_count": 31,
     "metadata": {},
     "output_type": "execute_result"
    }
   ],
   "source": [
    "ta.sma(df.Close, lenght=20)"
   ]
  },
  {
   "cell_type": "code",
   "execution_count": 32,
   "metadata": {},
   "outputs": [
    {
     "data": {
      "text/html": [
       "<div>\n",
       "<style scoped>\n",
       "    .dataframe tbody tr th:only-of-type {\n",
       "        vertical-align: middle;\n",
       "    }\n",
       "\n",
       "    .dataframe tbody tr th {\n",
       "        vertical-align: top;\n",
       "    }\n",
       "\n",
       "    .dataframe thead th {\n",
       "        text-align: right;\n",
       "    }\n",
       "</style>\n",
       "<table border=\"1\" class=\"dataframe\">\n",
       "  <thead>\n",
       "    <tr style=\"text-align: right;\">\n",
       "      <th></th>\n",
       "      <th>BBL_20_2.0</th>\n",
       "      <th>BBM_20_2.0</th>\n",
       "      <th>BBU_20_2.0</th>\n",
       "      <th>BBB_20_2.0</th>\n",
       "    </tr>\n",
       "    <tr>\n",
       "      <th>Date</th>\n",
       "      <th></th>\n",
       "      <th></th>\n",
       "      <th></th>\n",
       "      <th></th>\n",
       "    </tr>\n",
       "  </thead>\n",
       "  <tbody>\n",
       "    <tr>\n",
       "      <th>2019-01-02</th>\n",
       "      <td>NaN</td>\n",
       "      <td>NaN</td>\n",
       "      <td>NaN</td>\n",
       "      <td>NaN</td>\n",
       "    </tr>\n",
       "    <tr>\n",
       "      <th>2019-01-03</th>\n",
       "      <td>NaN</td>\n",
       "      <td>NaN</td>\n",
       "      <td>NaN</td>\n",
       "      <td>NaN</td>\n",
       "    </tr>\n",
       "    <tr>\n",
       "      <th>2019-01-04</th>\n",
       "      <td>NaN</td>\n",
       "      <td>NaN</td>\n",
       "      <td>NaN</td>\n",
       "      <td>NaN</td>\n",
       "    </tr>\n",
       "    <tr>\n",
       "      <th>2019-01-07</th>\n",
       "      <td>NaN</td>\n",
       "      <td>NaN</td>\n",
       "      <td>NaN</td>\n",
       "      <td>NaN</td>\n",
       "    </tr>\n",
       "    <tr>\n",
       "      <th>2019-01-08</th>\n",
       "      <td>NaN</td>\n",
       "      <td>NaN</td>\n",
       "      <td>NaN</td>\n",
       "      <td>NaN</td>\n",
       "    </tr>\n",
       "    <tr>\n",
       "      <th>...</th>\n",
       "      <td>...</td>\n",
       "      <td>...</td>\n",
       "      <td>...</td>\n",
       "      <td>...</td>\n",
       "    </tr>\n",
       "    <tr>\n",
       "      <th>2021-06-18</th>\n",
       "      <td>142.050003</td>\n",
       "      <td>142.050003</td>\n",
       "      <td>142.050003</td>\n",
       "      <td>0.0</td>\n",
       "    </tr>\n",
       "    <tr>\n",
       "      <th>2021-06-22</th>\n",
       "      <td>142.050003</td>\n",
       "      <td>142.050003</td>\n",
       "      <td>142.050003</td>\n",
       "      <td>0.0</td>\n",
       "    </tr>\n",
       "    <tr>\n",
       "      <th>2021-06-23</th>\n",
       "      <td>142.050003</td>\n",
       "      <td>142.050003</td>\n",
       "      <td>142.050003</td>\n",
       "      <td>0.0</td>\n",
       "    </tr>\n",
       "    <tr>\n",
       "      <th>2021-06-24</th>\n",
       "      <td>142.050003</td>\n",
       "      <td>142.050003</td>\n",
       "      <td>142.050003</td>\n",
       "      <td>0.0</td>\n",
       "    </tr>\n",
       "    <tr>\n",
       "      <th>2021-06-25</th>\n",
       "      <td>142.050003</td>\n",
       "      <td>142.050003</td>\n",
       "      <td>142.050003</td>\n",
       "      <td>0.0</td>\n",
       "    </tr>\n",
       "  </tbody>\n",
       "</table>\n",
       "<p>602 rows × 4 columns</p>\n",
       "</div>"
      ],
      "text/plain": [
       "            BBL_20_2.0  BBM_20_2.0  BBU_20_2.0  BBB_20_2.0\n",
       "Date                                                      \n",
       "2019-01-02         NaN         NaN         NaN         NaN\n",
       "2019-01-03         NaN         NaN         NaN         NaN\n",
       "2019-01-04         NaN         NaN         NaN         NaN\n",
       "2019-01-07         NaN         NaN         NaN         NaN\n",
       "2019-01-08         NaN         NaN         NaN         NaN\n",
       "...                ...         ...         ...         ...\n",
       "2021-06-18  142.050003  142.050003  142.050003         0.0\n",
       "2021-06-22  142.050003  142.050003  142.050003         0.0\n",
       "2021-06-23  142.050003  142.050003  142.050003         0.0\n",
       "2021-06-24  142.050003  142.050003  142.050003         0.0\n",
       "2021-06-25  142.050003  142.050003  142.050003         0.0\n",
       "\n",
       "[602 rows x 4 columns]"
      ]
     },
     "execution_count": 32,
     "metadata": {},
     "output_type": "execute_result"
    }
   ],
   "source": [
    "ta.bbands(df.Close, length=20, std=2, ddof=0.0001)"
   ]
  },
  {
   "cell_type": "code",
   "execution_count": 33,
   "metadata": {},
   "outputs": [
    {
     "data": {
      "text/plain": [
       "Date\n",
       "2019-01-02           NaN\n",
       "2019-01-03           NaN\n",
       "2019-01-04           NaN\n",
       "2019-01-07           NaN\n",
       "2019-01-08           NaN\n",
       "                 ...    \n",
       "2021-06-18    142.050003\n",
       "2021-06-22    142.050003\n",
       "2021-06-23    142.050003\n",
       "2021-06-24    142.050003\n",
       "2021-06-25    142.050003\n",
       "Length: 602, dtype: float64"
      ]
     },
     "execution_count": 33,
     "metadata": {},
     "output_type": "execute_result"
    }
   ],
   "source": [
    "df.Close.rolling(20, min_periods=20).mean() - ta.stdev(df.Close, length=20, ddof=0.0001) * 2"
   ]
  },
  {
   "cell_type": "code",
   "execution_count": 34,
   "metadata": {},
   "outputs": [
    {
     "data": {
      "text/plain": [
       "Date\n",
       "2019-01-02           NaN\n",
       "2019-01-03           NaN\n",
       "2019-01-04           NaN\n",
       "2019-01-07           NaN\n",
       "2019-01-08           NaN\n",
       "                 ...    \n",
       "2021-06-18    142.050003\n",
       "2021-06-22    142.050003\n",
       "2021-06-23    142.050003\n",
       "2021-06-24    142.050003\n",
       "2021-06-25    142.050003\n",
       "Length: 602, dtype: float64"
      ]
     },
     "execution_count": 34,
     "metadata": {},
     "output_type": "execute_result"
    }
   ],
   "source": [
    "df.Close.rolling(20, min_periods=20).mean() + ta.stdev(df.Close, length=20, ddof=0.0001) * 2"
   ]
  },
  {
   "cell_type": "code",
   "execution_count": 35,
   "metadata": {},
   "outputs": [
    {
     "data": {
      "text/plain": [
       "Date\n",
       "2019-01-02    NaN\n",
       "2019-01-03    NaN\n",
       "2019-01-04    NaN\n",
       "2019-01-07    NaN\n",
       "2019-01-08    NaN\n",
       "             ... \n",
       "2021-06-18    0.0\n",
       "2021-06-22    0.0\n",
       "2021-06-23    0.0\n",
       "2021-06-24    0.0\n",
       "2021-06-25    0.0\n",
       "Name: STDEV_20, Length: 602, dtype: float64"
      ]
     },
     "execution_count": 35,
     "metadata": {},
     "output_type": "execute_result"
    }
   ],
   "source": [
    "ta.stdev(df.Close, length=20, ddof=0.0001) * 2"
   ]
  },
  {
   "cell_type": "markdown",
   "metadata": {},
   "source": [
    "Varianza"
   ]
  },
  {
   "cell_type": "markdown",
   "metadata": {},
   "source": []
  },
  {
   "cell_type": "code",
   "execution_count": 36,
   "metadata": {},
   "outputs": [
    {
     "data": {
      "text/plain": [
       "Date\n",
       "2019-01-02    NaN\n",
       "2019-01-03    NaN\n",
       "2019-01-04    NaN\n",
       "2019-01-07    NaN\n",
       "2019-01-08    NaN\n",
       "             ... \n",
       "2021-06-18    0.0\n",
       "2021-06-22    0.0\n",
       "2021-06-23    0.0\n",
       "2021-06-24    0.0\n",
       "2021-06-25    0.0\n",
       "Name: Close, Length: 602, dtype: float64"
      ]
     },
     "execution_count": 36,
     "metadata": {},
     "output_type": "execute_result"
    }
   ],
   "source": [
    "df.Close.rolling(20).var(0).apply(npsqrt)"
   ]
  },
  {
   "cell_type": "code",
   "execution_count": 37,
   "metadata": {},
   "outputs": [],
   "source": [
    "ddof = 0"
   ]
  },
  {
   "cell_type": "code",
   "execution_count": 38,
   "metadata": {},
   "outputs": [],
   "source": [
    "length = 20"
   ]
  },
  {
   "cell_type": "code",
   "execution_count": 39,
   "metadata": {},
   "outputs": [],
   "source": [
    "ddof = int(ddof) if ddof and ddof >= 0 and ddof < length else 1"
   ]
  },
  {
   "cell_type": "code",
   "execution_count": 40,
   "metadata": {},
   "outputs": [
    {
     "data": {
      "text/plain": [
       "1"
      ]
     },
     "execution_count": 40,
     "metadata": {},
     "output_type": "execute_result"
    }
   ],
   "source": [
    "ddof"
   ]
  },
  {
   "cell_type": "code",
   "execution_count": 41,
   "metadata": {},
   "outputs": [],
   "source": [
    "ddof = int(ddof) if ddof and ddof >= 0 and ddof < length else 1"
   ]
  }
 ],
 "metadata": {
  "interpreter": {
   "hash": "0fad744df8831b57cd885722def250170a55ab230affc0085a87d8f366d2e3cc"
  },
  "kernelspec": {
   "display_name": "Python 3.9.5 64-bit (windows store)",
   "name": "python3"
  },
  "language_info": {
   "codemirror_mode": {
    "name": "ipython",
    "version": 3
   },
   "file_extension": ".py",
   "mimetype": "text/x-python",
   "name": "python",
   "nbconvert_exporter": "python",
   "pygments_lexer": "ipython3",
   "version": "3.9.9"
  },
  "orig_nbformat": 4
 },
 "nbformat": 4,
 "nbformat_minor": 2
}
